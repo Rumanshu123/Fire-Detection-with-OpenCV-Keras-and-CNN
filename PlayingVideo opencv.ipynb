{
 "cells": [
  {
   "cell_type": "code",
   "execution_count": 4,
   "id": "2fce0556",
   "metadata": {},
   "outputs": [],
   "source": [
    "import cv2\n",
    "\n",
    "\n",
    "cap = cv2.VideoCapture(0)\n",
    "while True:\n",
    "    ret, frame = cap.read()\n",
    "    if not ret:\n",
    "        print(\"Failed to capture frame from the camera\")\n",
    "        break\n",
    "        \n",
    "    cv2.imshow(\"Webcam\", frame)\n",
    "    if cv2.waitKey(1) & 0xFF == ord('q'):\n",
    "        break\n",
    "cap.release()\n",
    "cv2.destroyAllWindows()            \n",
    "        \n",
    "   "
   ]
  },
  {
   "cell_type": "markdown",
   "id": "4735e904",
   "metadata": {},
   "source": [
    "# Importing Libraries:\n",
    "\n",
    "The code starts by importing necessary libraries: cv2 for working with OpenCV and numpy for numerical operations.\n",
    "Initializing Video Capture:\n",
    "\n",
    "It initializes a VideoCapture object named cap to access the camera and capture frames.\n",
    "\n",
    "Starting a Continuous Loop:\n",
    "\n",
    "The code enters a while loop that runs continuously until broken.\n",
    "\n",
    "Reading Frames:\n",
    "\n",
    "Inside the loop, it reads a frame from the camera using cap.read() and assigns it to frame. The return value ret indicate\n",
    "s if the frame was successfully read.\n",
    "\n",
    "Checking for Frame Capture:\n",
    "\n",
    "It checks if a frame was successfully captured. If not (ret is False), it prints an error message and breaks out of the \n",
    "loop.\n",
    "\n",
    "Displaying Frames:\n",
    "\n",
    "If a frame was captured, it displays the frame in a window titled \"Webcam\" using cv2.imshow().\n",
    "Handling User Input:\n",
    "\n",
    "It waits for a key press for 1 millisecond using cv2.waitKey(1) and checks if the key pressed is 'q' (ord('q')). If 'q' is\n",
    "pressed, it breaks out of the loop.\n",
    "\n",
    "Releasing Resources:\n",
    "\n",
    "After exiting the loop, it releases the camera using cap.release() and closes all OpenCV windows using cv2.destroyAllWindows\n",
    "()."
   ]
  },
  {
   "cell_type": "code",
   "execution_count": null,
   "id": "4f952f84",
   "metadata": {},
   "outputs": [],
   "source": []
  }
 ],
 "metadata": {
  "kernelspec": {
   "display_name": "Python 3 (ipykernel)",
   "language": "python",
   "name": "python3"
  },
  "language_info": {
   "codemirror_mode": {
    "name": "ipython",
    "version": 3
   },
   "file_extension": ".py",
   "mimetype": "text/x-python",
   "name": "python",
   "nbconvert_exporter": "python",
   "pygments_lexer": "ipython3",
   "version": "3.11.3"
  }
 },
 "nbformat": 4,
 "nbformat_minor": 5
}
