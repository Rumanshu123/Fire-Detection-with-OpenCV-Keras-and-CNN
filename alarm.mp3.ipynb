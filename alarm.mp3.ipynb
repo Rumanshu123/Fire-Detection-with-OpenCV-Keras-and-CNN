{
 "cells": [
  {
   "cell_type": "code",
   "execution_count": 1,
   "id": "8510fe20",
   "metadata": {},
   "outputs": [],
   "source": [
    "from gtts import gTTS # type: ignore\n",
    "import os\n",
    "\n",
    "def trigger_alarm(volume=50):\n",
    "    alarm_message = \"Warning! Fire is detected. Please evacuate immediately\"\n",
    "    tts = gTTS(text=alarm_message, lang='en')\n",
    "    tts.save(\"alarm.mp3\")\n",
    "    os.system(f\"afplay -v {volume} alarm.mp3\")\n",
    "\n",
    "trigger_alarm(volume=35)"
   ]
  },
  {
   "cell_type": "code",
   "execution_count": null,
   "id": "253d4490",
   "metadata": {},
   "outputs": [],
   "source": []
  }
 ],
 "metadata": {
  "kernelspec": {
   "display_name": "Python 3 (ipykernel)",
   "language": "python",
   "name": "python3"
  },
  "language_info": {
   "codemirror_mode": {
    "name": "ipython",
    "version": 3
   },
   "file_extension": ".py",
   "mimetype": "text/x-python",
   "name": "python",
   "nbconvert_exporter": "python",
   "pygments_lexer": "ipython3",
   "version": "3.11.3"
  }
 },
 "nbformat": 4,
 "nbformat_minor": 5
}
