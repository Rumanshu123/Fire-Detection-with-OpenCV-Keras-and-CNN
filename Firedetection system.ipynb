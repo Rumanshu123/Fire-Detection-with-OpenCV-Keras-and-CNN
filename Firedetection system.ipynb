{
 "cells": [
  {
   "cell_type": "markdown",
   "id": "a6c693f9",
   "metadata": {},
   "source": [
    "# IMPORTING LIBRARIES"
   ]
  },
  {
   "cell_type": "code",
   "execution_count": 6,
   "id": "c7a4daf3",
   "metadata": {},
   "outputs": [],
   "source": [
    "import cv2\n",
    "import numpy as np\n",
    "from keras.models import load_model\n",
    "from AlarmSystem import trigger_alarm"
   ]
  },
  {
   "cell_type": "markdown",
   "id": "63dfd882",
   "metadata": {},
   "source": [
    "# LOAD MODEL"
   ]
  },
  {
   "cell_type": "markdown",
   "id": "7d1b8fc7",
   "metadata": {},
   "source": [
    "# Importing Libraries:\n",
    "\n",
    "The code imports necessary libraries such as OpenCV, NumPy, and Keras for video processing, numerical operations, and deep\n",
    "learning model loading.\n",
    "\n",
    "Loading Model:\n",
    "\n",
    "It loads a pre-trained Keras model that was trained to detect fire. The model is saved in the .keras format.\n",
    "Detection Function:\n",
    "\n",
    "The detect_fire function preprocesses each frame of the video by converting it to grayscale, resizing it to a fixed size of\n",
    "48x48 pixels, and normalizing the pixel values.\n",
    "It uses the loaded model to predict whether there is fire present in the frame based on a threshold value of 0.5.\n",
    "\n",
    "Main Code Execution:\n",
    "\n",
    "The main part of the code opens a video file using OpenCV's VideoCapture function.\n",
    "If there's an error opening the file, it displays an error message and exits the program.\n",
    "Inside a while loop, it reads each frame of the video one by one.\n",
    "If there are no more frames left to read, it breaks out of the loop.\n",
    "For each frame, it calls the detect_fire function to check if there's fire present.\n",
    "If fire is detected, it triggers an alarm and draws a red rectangle around the suspected fire area, along with a warning\n",
    "message.\n",
    "\n",
    "The annotated frame is displayed on the screen.\n",
    "The loop continues until the user presses the 'q' key to quit the program.\n",
    "After quitting, the program releases all resources acquired for capturing, reading, and displaying videos/images.\n",
    "\n",
    "Programming Concepts:\n",
    "\n",
    "The code demonstrates the use of several programming concepts such as importing libraries/modules/packages, loading and\n",
    "using a pre-trained deep learning model, video processing using OpenCV, and handling user input."
   ]
  },
  {
   "cell_type": "code",
   "execution_count": 7,
   "id": "c730315e",
   "metadata": {},
   "outputs": [
    {
     "name": "stdout",
     "output_type": "stream",
     "text": [
      "Error: could not open video file\n"
     ]
    }
   ],
   "source": [
    "model = load_model(\"fire_detection_model.keras\")  # Load the saved Keras model\n",
    "def detect_fire(frame, threshold=0.5):\n",
    "    preprocess_frame = cv2.cvtColor(cv2.resize(frame,(48,48)), cv2.COLOR_BGR2GRAY)\n",
    "    preprocess_frame = np.expand_dims(preprocess_frame, axis=0)\n",
    "    preprocess_frame = np.expand_dims(preprocess_frame, axis=-1)\n",
    "    preprocess_frame = preprocess_frame.astype(\"float32\")/255\n",
    "    prediction = model.predict(preprocess_frame)\n",
    "    if prediction[0][1] >= threshold:\n",
    "        return True\n",
    "    else:\n",
    "        return False\n",
    "    \n",
    "cap = cv2.VideoCapture(\"E:\\aditya\\IMG_5496.MOV\")\n",
    "if not cap.isOpened():\n",
    "    print(\"Error: could not open video file\")\n",
    "    exit()\n",
    "while True:\n",
    "    ret, frame = cap.read()\n",
    "    if not ret:\n",
    "        break\n",
    "    if detect_fire(frame):\n",
    "        trigger_alarm(volume=35)\n",
    "        cv2.rectangle(frame, (100,100),(frame.shape[1]-100, frame.shape[0]-100),(0,0,255),2)\n",
    "        cv2.putText(frame, \"Warning, fire is detected\", (50,50), cv2.FONT_HERSHEY_SIMPLEX, 1, (0,0,255), 2, cv2.LINE_AA)\n",
    "\n",
    "    cv2.imshow(\"Video\", frame)\n",
    "\n",
    "    if cv2.waitKey(25) & 0xFF == ord('q'):\n",
    "        break\n",
    "\n",
    "cap.release()\n",
    "cv2.destroyAllWindows()\n",
    "    "
   ]
  },
  {
   "cell_type": "markdown",
   "id": "a3b2d2af",
   "metadata": {},
   "source": [
    "# Error: could not open video file u take your own file instead  i take image not video"
   ]
  },
  {
   "cell_type": "code",
   "execution_count": null,
   "id": "e5ba5914",
   "metadata": {},
   "outputs": [],
   "source": []
  }
 ],
 "metadata": {
  "kernelspec": {
   "display_name": "Python 3 (ipykernel)",
   "language": "python",
   "name": "python3"
  },
  "language_info": {
   "codemirror_mode": {
    "name": "ipython",
    "version": 3
   },
   "file_extension": ".py",
   "mimetype": "text/x-python",
   "name": "python",
   "nbconvert_exporter": "python",
   "pygments_lexer": "ipython3",
   "version": "3.11.3"
  }
 },
 "nbformat": 4,
 "nbformat_minor": 5
}
